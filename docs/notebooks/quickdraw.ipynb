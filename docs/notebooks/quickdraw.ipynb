{
 "cells": [
  {
   "cell_type": "markdown",
   "id": "632189e7ff497257483c0f9a48ea4d96",
   "metadata": {},
   "source": [
    "# QuickDraw: A Pictionary App"
   ]
  },
  {
   "cell_type": "markdown",
   "id": "c1e861364ee6d6ec718d8c2e2f7b3a90",
   "metadata": {
    "tags": [
     "add-colab-badge"
    ]
   },
   "source": [
    "[![Open In Colab](https://colab.research.google.com/assets/colab-badge.svg)](https://colab.research.google.com/github/unionai-oss/unionml/blob/main/docs/notebooks/quickdraw.ipynb)"
   ]
  },
  {
   "cell_type": "markdown",
   "id": "95ef5b70631e4f4ffd4a55a22766abaf",
   "metadata": {},
   "source": [
    "In this example, we'll see how to create pictionary app that uses the\n",
    "[QuickDraw](https://github.com/googlecreativelab/quickdraw-dataset) dataset\n",
    "to train a convolutional neural net to predict the semantic label of a\n",
    "hand-drawn picture.\n",
    "\n",
    "We'll break this tutorial up into two parts:\n",
    "\n",
    "1. Creating plain Python classes and functions to implement the quickdraw dataset\n",
    "   and model using [`pytorch`](https://pytorch.org/) and the Hugging Face\n",
    "   [`transformers`](https://huggingface.co/docs/transformers/index) library.\n",
    "2. Using the pieces in part 1 to create a UnionML app for training a model\n",
    "   and serving predictions using a [`gradio`](https://gradio.app/) widget.\n",
    "\n",
    "## Part 1: Implementing the Quickdraw Model\n",
    "\n",
    "```{note}\n",
    "This tutorial is adapted from this [gradio guide](https://gradio.app/building_a_pictionary_app/),\n",
    "and you can find the original notebook [here](https://github.com/nateraw/quickdraw-pytorch).\n",
    "```"
   ]
  },
  {
   "cell_type": "code",
   "execution_count": null,
   "id": "0b9015410461e5f9758bb95885e837ca",
   "metadata": {
    "tags": [
     "remove-cell"
    ]
   },
   "outputs": [],
   "source": [
    "%%capture\n",
    "!pip install 'gradio<=3.0.10' numpy tqdm requests torch transformers unionml"
   ]
  },
  {
   "cell_type": "markdown",
   "id": "36441e9ec57cbf6966c99c28cb8ffd80",
   "metadata": {
    "tags": [
     "remove-cell"
    ]
   },
   "source": [
    "> If you're running this notebook in google colab, you need to restart the kernel to\n",
    "> make sure that the newly installed packages are correctly imported in the next line below."
   ]
  },
  {
   "cell_type": "markdown",
   "id": "94f9e22a907a3e7ddccc478a220bce7a",
   "metadata": {},
   "source": [
    "First let's import everything we need:"
   ]
  },
  {
   "cell_type": "code",
   "execution_count": null,
   "id": "1a965b959566c2fb8675f9e44fb72e86",
   "metadata": {},
   "outputs": [],
   "source": [
    "import math\n",
    "from typing import List, Optional\n",
    "\n",
    "import urllib.request\n",
    "from tqdm.auto import tqdm\n",
    "from pathlib import Path\n",
    "import requests\n",
    "import torch\n",
    "import numpy as np"
   ]
  },
  {
   "cell_type": "markdown",
   "id": "c7dc59d03947e408972305382b5e4f1c",
   "metadata": {},
   "source": [
    "Then let's implement some helper functions for downloading the quickdraw data and loading it\n",
    "into memory:"
   ]
  },
  {
   "cell_type": "code",
   "execution_count": null,
   "id": "68aba9fbb8fd422425149715ed685776",
   "metadata": {},
   "outputs": [],
   "source": [
    "CLASSES_URL = \"https://raw.githubusercontent.com/googlecreativelab/quickdraw-dataset/master/categories.txt\"\n",
    "DATASET_URL = \"https://storage.googleapis.com/quickdraw_dataset/full/numpy_bitmap/\"\n",
    "\n",
    "\n",
    "def get_quickdraw_class_names():\n",
    "    \"\"\"Get the class names associated with the quickdraw dataset.\"\"\"\n",
    "    return [*sorted(x.replace(' ', '_') for x in requests.get(CLASSES_URL).text.splitlines())]\n",
    "\n",
    "\n",
    "def download_quickdraw_dataset(\n",
    "    root: str = \"./data\",\n",
    "    limit: Optional[int] = None,\n",
    "    class_names: List[str]=None,\n",
    "):\n",
    "    \"\"\"Download quickdraw data to a directory containing files for each class label.\"\"\"\n",
    "    class_names = class_names or get_quickdraw_class_names()\n",
    "    root = Path(root)\n",
    "    root.mkdir(exist_ok=True, parents=True)\n",
    "    print(\"Downloading Quickdraw Dataset...\")\n",
    "    for class_name in tqdm(class_names[:limit]):\n",
    "        urllib.request.urlretrieve(\n",
    "            f\"{DATASET_URL}{class_name.replace('_', '%20')}.npy\",\n",
    "            root / f\"{class_name}.npy\"\n",
    "        )\n",
    "\n",
    "\n",
    "def load_quickdraw_data(root: str = \"./data\", max_items_per_class: int = 5000):\n",
    "    \"\"\"Load quickdraw data in to memory, returning features, labels, and class names.\"\"\"\n",
    "    x = np.empty([0, 784], dtype=np.uint8)\n",
    "    y = np.empty([0], dtype=np.long)\n",
    "    class_names = []\n",
    "    print(f\"Loading {max_items_per_class} examples for each class from the Quickdraw Dataset...\")\n",
    "    for idx, file in enumerate(tqdm(sorted(Path(root).glob('*.npy')))):\n",
    "        data = np.load(file, mmap_mode='r')[0: max_items_per_class, :]\n",
    "        x = np.concatenate((x, data), axis=0)\n",
    "        y = np.append(y, np.full(data.shape[0], idx))\n",
    "        class_names.append(file.stem)\n",
    "    return x, y, class_names"
   ]
  },
  {
   "cell_type": "markdown",
   "id": "a2059c40ed5c75b49c9912120dea3943",
   "metadata": {},
   "source": [
    "### QuickDraw Dataset\n",
    "\n",
    "Next we implement the `QuickDrawDataset` using `torch.utils.data.Dataset`:"
   ]
  },
  {
   "cell_type": "code",
   "execution_count": null,
   "id": "7e20b05f47d6beb0f3df744edd9df34b",
   "metadata": {},
   "outputs": [],
   "source": [
    "class QuickDrawDataset(torch.utils.data.Dataset):\n",
    "    def __init__(self, root, max_items_per_class=5000, class_limit=None):\n",
    "        super().__init__()\n",
    "        download_quickdraw_dataset(root, class_limit)\n",
    "        self.X, self.Y, self.classes = load_quickdraw_data(root, max_items_per_class)\n",
    "\n",
    "    def __getitem__(self, idx):\n",
    "        x = (self.X[idx] / 255.).astype(np.float32).reshape(1, 28, 28)\n",
    "        y = self.Y[idx]\n",
    "        return torch.from_numpy(x), y.item()\n",
    "\n",
    "    def __len__(self):\n",
    "        return len(self.X)\n",
    "\n",
    "    @staticmethod\n",
    "    def collate_fn(batch):\n",
    "        return {\n",
    "            'pixel_values': torch.stack([item[0] for item in batch]),\n",
    "            'labels': torch.LongTensor([item[1] for item in batch]),\n",
    "        }\n",
    "\n",
    "    def split(self, pct=0.1):\n",
    "        indices = torch.randperm(len(self)).tolist()\n",
    "        n_val = math.floor(len(indices) * pct)\n",
    "        train_ds = torch.utils.data.Subset(self, indices[:-n_val])\n",
    "        val_ds = torch.utils.data.Subset(self, indices[-n_val:])\n",
    "        return train_ds, val_ds"
   ]
  },
  {
   "cell_type": "markdown",
   "id": "697b28d36ccfe39448733bb8651e8acd",
   "metadata": {},
   "source": [
    "As you'll see later, this class is important so that the `transformers` library can\n",
    "handle the automatic batching of data during training.\n",
    "\n",
    "### QuickDraw Model and Trainer\n",
    "\n",
    "Now let's define the model architecture for our ConvNet:"
   ]
  },
  {
   "cell_type": "code",
   "execution_count": null,
   "id": "473157c50f7920075ceeada6df9e4762",
   "metadata": {},
   "outputs": [],
   "source": [
    "from torch import nn\n",
    "\n",
    "def init_model(num_classes: int) -> nn.Module:\n",
    "    return nn.Sequential(\n",
    "        nn.Conv2d(1, 64, 3, padding='same'),\n",
    "        nn.ReLU(),\n",
    "        nn.MaxPool2d(2),\n",
    "        nn.Conv2d(64, 128, 3, padding='same'),\n",
    "        nn.ReLU(),\n",
    "        nn.MaxPool2d(2),\n",
    "        nn.Conv2d(128, 256, 3, padding='same'),\n",
    "        nn.ReLU(),\n",
    "        nn.MaxPool2d(2),\n",
    "        nn.Flatten(),\n",
    "        nn.Linear(2304, 512),\n",
    "        nn.ReLU(),\n",
    "        nn.Linear(512, num_classes),\n",
    "    )"
   ]
  },
  {
   "cell_type": "markdown",
   "id": "7669dfec05304c7dc1ed29b295158906",
   "metadata": {},
   "source": [
    "As you can see it's a fairly straightforward 2D ConvNet architecture that uses a square\n",
    "kernel size of 3, Relu layers for its non-linear activation operator, and max-pooling.\n",
    "\n",
    "Next, let's create a subclass of `transformers.Trainer` to implement a custom loss function:"
   ]
  },
  {
   "cell_type": "code",
   "execution_count": null,
   "id": "a30f20cb8c553ec49db5ba6fda7644cc",
   "metadata": {},
   "outputs": [],
   "source": [
    "from transformers import EvalPrediction, Trainer, TrainingArguments\n",
    "from transformers.modeling_utils import ModelOutput\n",
    "\n",
    "\n",
    "class QuickDrawTrainer(Trainer):\n",
    "\n",
    "    def compute_loss(self, model, inputs, return_outputs=False):\n",
    "        logits, labels = model(inputs[\"pixel_values\"]), inputs.get(\"labels\")\n",
    "        loss = None\n",
    "        if labels is not None:\n",
    "            loss = torch.nn.CrossEntropyLoss()(logits, labels)\n",
    "        return (loss, ModelOutput(logits=logits, loss=loss)) if return_outputs else loss"
   ]
  },
  {
   "cell_type": "markdown",
   "id": "595e289b0558869c5b00fb68a5cb5b0f",
   "metadata": {},
   "source": [
    "Then, let's define helper functions to compute the accuracy metric, which will be how we'll\n",
    "judge the performance of our model:"
   ]
  },
  {
   "cell_type": "code",
   "execution_count": null,
   "id": "11d01570a72c45e8d654c8d72a269380",
   "metadata": {},
   "outputs": [],
   "source": [
    "# Adapted from: https://github.com/rwightman/pytorch-image-models/blob/master/timm/utils/metrics.py\n",
    "def accuracy(output, target, topk=(1,)):\n",
    "    \"\"\"Computes the accuracy over the k top predictions for the specified values of k.\"\"\"\n",
    "    maxk = min(max(topk), output.size()[1])\n",
    "    batch_size = target.size(0)\n",
    "    _, pred = output.topk(maxk, 1, True, True)\n",
    "    pred = pred.t()\n",
    "    correct = pred.eq(target.reshape(1, -1).expand_as(pred))\n",
    "    return [correct[:min(k, maxk)].reshape(-1).float().sum(0) * 100. / batch_size for k in topk]\n",
    "\n",
    "def quickdraw_compute_metrics(p: EvalPrediction):\n",
    "    if p.label_ids is None:\n",
    "        return {}\n",
    "    acc1, acc5 = accuracy(p.predictions, p.label_ids, topk=(1, 5))\n",
    "    return {'acc1': acc1, 'acc5': acc5}"
   ]
  },
  {
   "cell_type": "markdown",
   "id": "9da6bc83bf66fd72b6b8c7c535cca244",
   "metadata": {},
   "source": [
    "Finally, let's create a `train_quickdraw` function that will serve as the main entrypoint\n",
    "for training:"
   ]
  },
  {
   "cell_type": "code",
   "execution_count": null,
   "id": "653d285302e2b445d41c73b1b62d041a",
   "metadata": {},
   "outputs": [],
   "source": [
    "from datetime import datetime\n",
    "\n",
    "def train_quickdraw(module: nn.Module, dataset: QuickDrawDataset, num_epochs: int, batch_size: int):\n",
    "    timestamp = datetime.now().strftime('%Y-%m-%d-%H%M%S')\n",
    "    training_args = TrainingArguments(\n",
    "        output_dir=f'~/.tmp/outputs_20k_{timestamp}',\n",
    "        save_strategy='epoch',\n",
    "        report_to=['tensorboard'],\n",
    "        logging_strategy='steps',\n",
    "        logging_steps=100,\n",
    "        per_device_train_batch_size=batch_size,\n",
    "        per_device_eval_batch_size=batch_size,\n",
    "        learning_rate=0.003,\n",
    "        fp16=torch.cuda.is_available(),\n",
    "        dataloader_drop_last=True,\n",
    "        num_train_epochs=num_epochs,\n",
    "        warmup_steps=10000,\n",
    "        save_total_limit=5,\n",
    "    )\n",
    "\n",
    "    print(f\"Training on device: {training_args.device}\")\n",
    "\n",
    "    quickdraw_trainer = QuickDrawTrainer(\n",
    "        module,\n",
    "        training_args,\n",
    "        data_collator=dataset.collate_fn,\n",
    "        train_dataset=dataset,\n",
    "        tokenizer=None,\n",
    "        compute_metrics=quickdraw_compute_metrics,\n",
    "    )\n",
    "    train_results = quickdraw_trainer.train()\n",
    "    quickdraw_trainer.save_model()\n",
    "    quickdraw_trainer.log_metrics(\"train\", train_results.metrics)\n",
    "    quickdraw_trainer.save_metrics(\"train\", train_results.metrics)\n",
    "    quickdraw_trainer.save_state()\n",
    "    return module"
   ]
  },
  {
   "cell_type": "markdown",
   "id": "cc939fc6464d2ed45feed3cd0d5029c7",
   "metadata": {},
   "source": [
    "Why did we do through all of this trouble to implementing the dataset and model classes/functions\n",
    "instead of embedding it inside our UnionML app?\n",
    "\n",
    "Well, it often makes sense to separate the concerns of the dataset/model implementation from the\n",
    "application code that will scale or serve it, especially for more complex projects. Depending on the\n",
    "the complexity of the data processing and modeling logic needed to train your model, you may want to\n",
    "create separate functions/classes/modules to abstract it away.\n",
    "\n",
    "In the next section, we'll see that this pays dividends in terms of readability and maintainability.\n",
    "\n",
    "## Part 2: Creating a UnionML Pictionary App\n",
    "\n",
    "Now that we have all the pieces we need to train our model, let's create the UnionML app. First we\n",
    "import what we need and define our `unionml.Dataset` and `unionml.Model` objects:"
   ]
  },
  {
   "cell_type": "code",
   "execution_count": null,
   "id": "e59c483adb734a7ff9719ae788d3cf55",
   "metadata": {},
   "outputs": [],
   "source": [
    "from typing import Union\n",
    "\n",
    "import numpy as np\n",
    "import torch\n",
    "import torch.nn as nn\n",
    "\n",
    "from transformers import EvalPrediction\n",
    "from unionml import Dataset, Model\n",
    "\n",
    "dataset = Dataset(name=\"quickdraw_dataset\", test_size=0.2, shuffle=True)\n",
    "model = Model(name=\"quickdraw_classifier\", init=init_model, dataset=dataset)"
   ]
  },
  {
   "cell_type": "markdown",
   "id": "bed82db5c5fb6ef65e34c8e900b16b33",
   "metadata": {},
   "source": [
    "### Reading the Dataset\n",
    "\n",
    "Then, we implement the `reader` function, which returns a `QuickDrawDataset`:"
   ]
  },
  {
   "cell_type": "code",
   "execution_count": null,
   "id": "0420a969df557ae08c7ee8aa75ce8db3",
   "metadata": {},
   "outputs": [],
   "source": [
    "@dataset.reader(cache=True, cache_version=\"1\")\n",
    "def reader(\n",
    "    data_dir: str, max_examples_per_class: int = 1000, class_limit: int = 5\n",
    ") -> QuickDrawDataset:\n",
    "    return QuickDrawDataset(data_dir, max_examples_per_class, class_limit=class_limit)"
   ]
  },
  {
   "cell_type": "markdown",
   "id": "2a3312888b1b5cf6cdfb7719abdaa854",
   "metadata": {},
   "source": [
    "### Training\n",
    "\n",
    "Next, we define the `trainer` function, using the `quickdraw_trainer` helper function we\n",
    "defined above and an `evaluator` function to let UnionML know how to evaluate the model\n",
    "on some partition of the data:"
   ]
  },
  {
   "cell_type": "code",
   "execution_count": null,
   "id": "ad07dc194bf3f9588e9359376cc23019",
   "metadata": {},
   "outputs": [],
   "source": [
    "@model.trainer(cache=True, cache_version=\"1\")\n",
    "def trainer(\n",
    "    module: nn.Module,\n",
    "    dataset: torch.utils.data.Subset,\n",
    "    *,\n",
    "    num_epochs: int = 20,\n",
    "    batch_size: int = 256,\n",
    ") -> nn.Module:\n",
    "    return train_quickdraw(module, dataset, num_epochs, batch_size)\n",
    "\n",
    "@model.evaluator\n",
    "def evaluator(module: nn.Module, dataset: QuickDrawDataset) -> float:\n",
    "    cuda = torch.cuda.is_available()\n",
    "    module = module.cuda() if cuda else module\n",
    "    acc = []\n",
    "    for features, label_ids in torch.utils.data.DataLoader(dataset, batch_size=256):\n",
    "        features = features.to(\"cuda\") if cuda else features\n",
    "        label_ids = label_ids.to(\"cuda\") if cuda else label_ids\n",
    "        metrics = quickdraw_compute_metrics(EvalPrediction(module(features), label_ids))\n",
    "        acc.append(metrics[\"acc1\"])\n",
    "    module.cpu()\n",
    "    return float(sum(acc) / len(acc))"
   ]
  },
  {
   "cell_type": "markdown",
   "id": "5bbecf55e5e93533b1047e0d4a796c27",
   "metadata": {},
   "source": [
    "### Prediction\n",
    "\n",
    "Because we expect to generate predictions from raw images in the form of a numpy array,\n",
    "we need to register a `feature_loader` function in the `dataset` object:"
   ]
  },
  {
   "cell_type": "code",
   "execution_count": null,
   "id": "9035fca3ee28d9de3e851e4f28e5ac65",
   "metadata": {},
   "outputs": [],
   "source": [
    "@dataset.feature_loader\n",
    "def feature_loader(data: np.ndarray) -> torch.Tensor:\n",
    "    return torch.tensor(data, dtype=torch.float32).unsqueeze(0).unsqueeze(0) / 255.0"
   ]
  },
  {
   "cell_type": "markdown",
   "id": "fb8f59f0e78e9d8f5b74d524a110b46d",
   "metadata": {},
   "source": [
    "Then we can define a `predictor` function that consumes the output of `feature_loader`:"
   ]
  },
  {
   "cell_type": "code",
   "execution_count": null,
   "id": "a1777209b573bea79225b4d2da72bf69",
   "metadata": {},
   "outputs": [],
   "source": [
    "@model.predictor(cache=True, cache_version=\"1\")\n",
    "def predictor(module: nn.Module, features: torch.Tensor) -> dict:\n",
    "    module.eval()\n",
    "    if torch.cuda.is_available():\n",
    "        module, features = module.cuda(), features.cuda()\n",
    "    with torch.no_grad():\n",
    "        probabilities = nn.functional.softmax(module(features)[0], dim=0)\n",
    "    class_names = get_quickdraw_class_names()\n",
    "    values, indices = torch.topk(probabilities, 3)\n",
    "    return {class_names[i]: v.item() for i, v in zip(indices, values)}"
   ]
  },
  {
   "cell_type": "markdown",
   "id": "e7a15dbd3d0465bcbecc85d402f68e8b",
   "metadata": {},
   "source": [
    "### Training a Model Locally\n",
    "\n",
    "Awesome! If you've been following along in your editor or a Jupyter notebook, you just implemented\n",
    "a pictionary app in UnionML ⭐️\n",
    "\n",
    "Now let's train a model just using 10 classes, with 500 examples per class, for 1 epoch. This\n",
    "model won't perform that well, so feel free to change these numbers up in the code below:"
   ]
  },
  {
   "cell_type": "code",
   "execution_count": null,
   "id": "f1d3da238a341f0f4ce03c05b4f06cce",
   "metadata": {},
   "outputs": [],
   "source": [
    "num_classes = 10  # max number of classes is 345\n",
    "max_examples_per_class = 500\n",
    "num_epochs = 1\n",
    "batch_size = 256\n",
    "\n",
    "model.train(\n",
    "    hyperparameters={\"num_classes\": num_classes},\n",
    "    trainer_kwargs={\"num_epochs\": num_epochs, \"batch_size\": batch_size},\n",
    "    data_dir=\"/tmp/quickdraw_data\",\n",
    "    max_examples_per_class=max_examples_per_class,\n",
    "    class_limit=num_classes,\n",
    ")"
   ]
  },
  {
   "cell_type": "markdown",
   "id": "56f511bb2f1bfa264e0734bb2ae820a1",
   "metadata": {},
   "source": [
    "### Serving on a Gradio Widget\n",
    "\n",
    "And now the moment of truth 🙌\n",
    "\n",
    "To create a `gradio` widget, we can simply use the `model.predict` method into the\n",
    "`gradio.Interface` object using a `lambda` function to handle the `None` case when we press\n",
    "the `clear` button on the widget:"
   ]
  },
  {
   "cell_type": "code",
   "execution_count": null,
   "id": "44cdd0b6a225e57d40ffb1816d96a7aa",
   "metadata": {
    "tags": [
     "remove-output"
    ]
   },
   "outputs": [],
   "source": [
    "import gradio as gr\n",
    "\n",
    "gr.Interface(\n",
    "    fn=lambda img: img if img is None else model.predict(img),\n",
    "    inputs=\"sketchpad\",\n",
    "    outputs=\"label\",\n",
    "    live=True,\n",
    "    allow_flagging=\"never\",\n",
    ").launch()"
   ]
  },
  {
   "cell_type": "markdown",
   "id": "55b94fbb483d77d780468c6d22e8178e",
   "metadata": {},
   "source": [
    "You might notice that the model may not perform as well as you might expect...\n",
    "welcome to the world of machine learning practice! To obtain a better model given\n",
    "a fixed dataset, feel free to play around with the model hyperparameters or even\n",
    "switch up the model type/architecture that's defined in the `trainer` function."
   ]
  }
 ],
 "metadata": {
  "kernelspec": {
   "display_name": "Python 3 (ipykernel)",
   "language": "python",
   "name": "python3"
  }
 },
 "nbformat": 4,
 "nbformat_minor": 5
}
